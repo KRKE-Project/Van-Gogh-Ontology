{
 "cells": [
  {
   "cell_type": "code",
   "execution_count": 2,
   "metadata": {},
   "outputs": [
    {
     "name": "stdout",
     "output_type": "stream",
     "text": [
      "Requirement already satisfied: rdflib in c:\\users\\anita\\lib\\site-packages (6.1.1)\n",
      "Requirement already satisfied: SPARQLWrapper in c:\\users\\anita\\lib\\site-packages (2.0.0)\n",
      "Requirement already satisfied: setuptools in c:\\users\\anita\\lib\\site-packages (from rdflib) (58.1.0)\n",
      "Requirement already satisfied: isodate in c:\\users\\anita\\lib\\site-packages (from rdflib) (0.6.1)\n",
      "Requirement already satisfied: pyparsing in c:\\users\\anita\\lib\\site-packages (from rdflib) (3.0.9)\n",
      "Requirement already satisfied: six in c:\\users\\anita\\lib\\site-packages (from isodate->rdflib) (1.16.0)\n",
      "\n",
      "[notice] A new release of pip available: 22.1.2 -> 23.0.1\n",
      "[notice] To update, run: python.exe -m pip install --upgrade pip\n",
      "Note: you may need to restart the kernel to use updated packages.\n"
     ]
    }
   ],
   "source": [
    "pip install rdflib SPARQLWrapper "
   ]
  },
  {
   "cell_type": "code",
   "execution_count": 3,
   "metadata": {},
   "outputs": [],
   "source": [
    "from rdflib import *\n",
    "from SPARQLWrapper import SPARQLWrapper, JSON"
   ]
  },
  {
   "cell_type": "code",
   "execution_count": null,
   "metadata": {},
   "outputs": [],
   "source": [
    "query = \"\"\"\n",
    "\n",
    "\"\"\"\n",
    "\n",
    "ontology_endpoint = \"http://www.semanticweb.org/van_gogh_ontology\"\n",
    "sparql = SPARQLWrapper(ontology_endpoint )\n",
    "sparql.setReturnFormat(JSON)\n",
    "sparql.setQuery(query)\n",
    "results = sparql.query().convert()\n",
    "\n",
    "for result in results[\"results\"][\"bindings\"]:"
   ]
  }
 ],
 "metadata": {
  "kernelspec": {
   "display_name": "Python 3",
   "language": "python",
   "name": "python3"
  },
  "language_info": {
   "codemirror_mode": {
    "name": "ipython",
    "version": 3
   },
   "file_extension": ".py",
   "mimetype": "text/x-python",
   "name": "python",
   "nbconvert_exporter": "python",
   "pygments_lexer": "ipython3",
   "version": "3.10.4"
  },
  "orig_nbformat": 4,
  "vscode": {
   "interpreter": {
    "hash": "a2e683e5e2ed245449f7aa357b5a83d3cb3fb19968652fa58849717518e2b16c"
   }
  }
 },
 "nbformat": 4,
 "nbformat_minor": 2
}
